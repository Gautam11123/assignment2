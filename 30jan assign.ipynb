{
 "cells": [
  {
   "cell_type": "code",
   "execution_count": 4,
   "id": "2d38f80b-3d3e-4eb8-ada0-e058da8c9657",
   "metadata": {},
   "outputs": [
    {
     "name": "stdout",
     "output_type": "stream",
     "text": [
      "Object `criteria` not found.\n"
     ]
    },
    {
     "name": "stdin",
     "output_type": "stream",
     "text": [
      "enter your marks 73\n"
     ]
    },
    {
     "name": "stdout",
     "output_type": "stream",
     "text": [
      "grade is C\n"
     ]
    }
   ],
   "source": [
    "1) Write a program to accept percentage from the user and display the grade according to the following criteria?\n",
    "Ans.per=int(input(\"enter your marks\"))\n",
    "if per >90:\n",
    "    print(\"grade is A\")\n",
    "if per>80 and per<=90:\n",
    "    print(\"garde is B\")\n",
    "if per>=60 and per<=80:\n",
    "    print(\"grade is C\")\n",
    "if per<60:\n",
    "    print(\"grade is D\")"
   ]
  },
  {
   "cell_type": "code",
   "execution_count": 9,
   "id": "68eae3e9-44fd-4a50-aadd-4e9114a4f93a",
   "metadata": {},
   "outputs": [
    {
     "name": "stdin",
     "output_type": "stream",
     "text": [
      "enter the price of bike 75200\n"
     ]
    },
    {
     "name": "stdout",
     "output_type": "stream",
     "text": [
      "Tax to be paid 7520.0\n"
     ]
    }
   ],
   "source": [
    "#2)Write a program to accept the cost price of a bike and display the road tax to be paid according to the following criteria? \n",
    "        \n",
    "#        Cost price (in Rs)                                                          Tax\n",
    " #       >100000                                                                       15%\n",
    "  #      >50000 and <= 100000                                                          10%\n",
    "   #     <=50000                                                                       5%\n",
    "        \n",
    "Tax=0\n",
    "price=int(input(\"enter the price of bike\"))\n",
    "if price>100000:\n",
    "    tax=15/100*price\n",
    "elif price>50000 and price<=100000:\n",
    "    tax=10/100*price\n",
    "else:\n",
    "    tax=5/100*price\n",
    "print(\"Tax to be paid\",tax)"
   ]
  },
  {
   "cell_type": "code",
   "execution_count": 7,
   "id": "51e84b98-e5af-483a-b0be-a5667d73fff7",
   "metadata": {},
   "outputs": [
    {
     "name": "stdin",
     "output_type": "stream",
     "text": [
      "enter name of the city delhi\n"
     ]
    },
    {
     "ename": "ValueError",
     "evalue": "invalid literal for int() with base 10: 'delhi'",
     "output_type": "error",
     "traceback": [
      "\u001b[0;31m---------------------------------------------------------------------------\u001b[0m",
      "\u001b[0;31mValueError\u001b[0m                                Traceback (most recent call last)",
      "Cell \u001b[0;32mIn[7], line 3\u001b[0m\n\u001b[1;32m      1\u001b[0m \u001b[38;5;66;03m#3)Accept any city from the user and display monument of that city?\u001b[39;00m\n\u001b[0;32m----> 3\u001b[0m city\u001b[38;5;241m=\u001b[39m\u001b[38;5;28;43mint\u001b[39;49m\u001b[43m(\u001b[49m\u001b[38;5;28;43minput\u001b[39;49m\u001b[43m(\u001b[49m\u001b[38;5;124;43m\"\u001b[39;49m\u001b[38;5;124;43menter name of the city\u001b[39;49m\u001b[38;5;124;43m\"\u001b[39;49m\u001b[43m)\u001b[49m\u001b[43m)\u001b[49m\n\u001b[1;32m      4\u001b[0m \u001b[38;5;28;01mif\u001b[39;00m city\u001b[38;5;241m.\u001b[39mlower()\u001b[38;5;241m==\u001b[39m\u001b[38;5;124m\"\u001b[39m\u001b[38;5;124mdelhi\u001b[39m\u001b[38;5;124m\"\u001b[39m:\n\u001b[1;32m      5\u001b[0m     \u001b[38;5;28mprint\u001b[39m(\u001b[38;5;124m\"\u001b[39m\u001b[38;5;124mmonument name is:Red Fort\u001b[39m\u001b[38;5;124m\"\u001b[39m)\n",
      "\u001b[0;31mValueError\u001b[0m: invalid literal for int() with base 10: 'delhi'"
     ]
    }
   ],
   "source": [
    "#3)Accept any city from the user and display monument of that city?\n",
    "            # city                              monument\n",
    "             #delhi                               red fort\n",
    "             #agra                                taj mahal\n",
    "             #jaipur                              jal mahal\n",
    "\n",
    "city=int(input(\"enter name of the city\"))\n",
    "if city.lower()==\"delhi\":\n",
    "    print(\"monument name is:Red Fort\")\n",
    "elif city.lower()==\"agra\":\n",
    "    print(\"monument name is:Taj Mahal\")\n",
    "elif city.lower()==\"jaipur\":\n",
    "    print(\"monument name is:Jal Mahal\")\n",
    "else :\n",
    "    print(\"enter correct name of city\")"
   ]
  },
  {
   "cell_type": "code",
   "execution_count": null,
   "id": "24a35884-35f6-47d2-b8a3-721833491eb1",
   "metadata": {},
   "outputs": [],
   "source": [
    "#4) Check how many times a given number can be divided by 3 before it is less than or equal to 10?\n",
    "num=int(input(\"enter your number\"))\n",
    "if (num%3==0):\n",
    "    print(\"{} id divisible by 3\")\n",
    "else:\n",
    "    print(\"{} is not dividible by 3\")\n"
   ]
  },
  {
   "cell_type": "code",
   "execution_count": null,
   "id": "92e1e7d7-eb92-47cf-8085-47c86f6599f4",
   "metadata": {},
   "outputs": [],
   "source": [
    "#5) Why and when to use while loop in python give a detailed discription with example?\n",
    "\n",
    "Ans. Python while loop is used to run a block code until a certain condition is met. Here, A while loop evaluates the condition. \n",
    "If the condition evaluates to True , the code inside the while loop is executed.\n",
    "example"
   ]
  },
  {
   "cell_type": "code",
   "execution_count": 8,
   "id": "afe5182d-8632-4fa8-ada4-a165544cb18a",
   "metadata": {},
   "outputs": [
    {
     "name": "stdout",
     "output_type": "stream",
     "text": [
      "1\n",
      "2\n",
      "3\n",
      "4\n",
      "5\n"
     ]
    }
   ],
   "source": [
    "i=1\n",
    "n=5\n",
    "while i<=n:\n",
    "    print(i)\n",
    "    i=i+1"
   ]
  },
  {
   "cell_type": "code",
   "execution_count": 10,
   "id": "ca31dfdc-d753-477f-ac74-01204c28d1ab",
   "metadata": {},
   "outputs": [
    {
     "name": "stdout",
     "output_type": "stream",
     "text": [
      "1 \n",
      "1 2 \n",
      "1 2 3 \n",
      "1 2 3 4 \n",
      "1 2 3 4 5 \n"
     ]
    }
   ],
   "source": [
    "#6) Used nested while loop to print 3 different pattern?\n",
    "rows = 5\n",
    "for i in range(1, rows + 1):\n",
    "    for j in range(1, i + 1):\n",
    "        print(j, end=' ')\n",
    "    print('')"
   ]
  },
  {
   "cell_type": "code",
   "execution_count": 11,
   "id": "5df73004-a30e-45f6-8a6b-c58d66892a2d",
   "metadata": {},
   "outputs": [
    {
     "name": "stdout",
     "output_type": "stream",
     "text": [
      "\n",
      "1 \n",
      "2 2 \n",
      "3 3 3 \n",
      "4 4 4 4 \n"
     ]
    }
   ],
   "source": [
    "for i in range(rows):\n",
    "    # nested loop\n",
    "    for j in range(i):\n",
    "        # display number\n",
    "        print(i, end=' ')\n",
    "    # new line after each row\n",
    "    print('')"
   ]
  },
  {
   "cell_type": "code",
   "execution_count": 15,
   "id": "6eb40db7-9e19-47e2-945d-583169f20b72",
   "metadata": {},
   "outputs": [
    {
     "name": "stdout",
     "output_type": "stream",
     "text": [
      "(1, 2, 3) (1, 2, 3) (1, 2, 3) (1, 2, 3) (1, 2, 3) \n",
      "(1, 2, 3) (1, 2, 3) (1, 2, 3) (1, 2, 3) \n",
      "(1, 2, 3) (1, 2, 3) (1, 2, 3) \n",
      "(1, 2, 3) (1, 2, 3) \n",
      "(1, 2, 3) \n"
     ]
    }
   ],
   "source": [
    "for i in range(rows, 0, -1):\n",
    "    b =1,2,3\n",
    "    for j in range(1, i + 1):\n",
    "        print(b, end=' ')\n",
    "    print('\\r')"
   ]
  },
  {
   "cell_type": "code",
   "execution_count": 17,
   "id": "d9ee0c8c-3a60-4e7f-b56c-935f57e83aff",
   "metadata": {},
   "outputs": [
    {
     "name": "stdout",
     "output_type": "stream",
     "text": [
      "10\n",
      "9\n",
      "8\n",
      "7\n",
      "6\n",
      "5\n",
      "4\n",
      "3\n",
      "2\n",
      "1\n"
     ]
    }
   ],
   "source": [
    "#7)Reverse a while loop to display the numbers from 1 to 10\n",
    "i = 10\n",
    "while i > 0:\n",
    "    print(i)\n",
    "    i = i - 1"
   ]
  },
  {
   "cell_type": "code",
   "execution_count": 18,
   "id": "09161799-7901-4fea-8914-a85fa2a34c6e",
   "metadata": {},
   "outputs": [
    {
     "name": "stdout",
     "output_type": "stream",
     "text": [
      "10\n",
      "9\n",
      "8\n",
      "7\n",
      "6\n",
      "5\n",
      "4\n",
      "3\n",
      "2\n",
      "1\n"
     ]
    }
   ],
   "source": [
    "i = 10\n",
    "while i > 0:\n",
    "    print(i)\n",
    "    i = i - 1"
   ]
  },
  {
   "cell_type": "code",
   "execution_count": null,
   "id": "0a380093-8bc4-4f70-902e-849a9c59b806",
   "metadata": {},
   "outputs": [],
   "source": []
  }
 ],
 "metadata": {
  "kernelspec": {
   "display_name": "Python 3 (ipykernel)",
   "language": "python",
   "name": "python3"
  },
  "language_info": {
   "codemirror_mode": {
    "name": "ipython",
    "version": 3
   },
   "file_extension": ".py",
   "mimetype": "text/x-python",
   "name": "python",
   "nbconvert_exporter": "python",
   "pygments_lexer": "ipython3",
   "version": "3.10.8"
  }
 },
 "nbformat": 4,
 "nbformat_minor": 5
}
